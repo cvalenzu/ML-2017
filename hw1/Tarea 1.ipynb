{
 "cells": [
  {
   "cell_type": "code",
   "execution_count": 29,
   "metadata": {
    "collapsed": true
   },
   "outputs": [],
   "source": [
    "import pandas as pd\n",
    "import numpy as np\n",
    "import seaborn as sns\n",
    "import matplotlib.pyplot as plt\n",
    "import sklearn.metrics as metrics\n",
    "\n",
    "%matplotlib inline"
   ]
  },
  {
   "cell_type": "markdown",
   "metadata": {},
   "source": [
    "## (a) Construya un dataframe con los datos a analizar descargando los datos desde la URL adjunta."
   ]
  },
  {
   "cell_type": "code",
   "execution_count": 30,
   "metadata": {
    "collapsed": true
   },
   "outputs": [],
   "source": [
    "df = pd.read_csv(\"kc_house_data.csv\",sep=\",\", header=0)\n",
    "df = df.drop(['id','date','zipcode'], axis=1)"
   ]
  },
  {
   "cell_type": "markdown",
   "metadata": {},
   "source": [
    "## (b) Describa brevemente el dataset utilizar."
   ]
  },
  {
   "cell_type": "code",
   "execution_count": 31,
   "metadata": {},
   "outputs": [
    {
     "data": {
      "text/plain": [
       "(21613, 18)"
      ]
     },
     "execution_count": 31,
     "metadata": {},
     "output_type": "execute_result"
    }
   ],
   "source": [
    "df.shape"
   ]
  },
  {
   "cell_type": "code",
   "execution_count": 32,
   "metadata": {},
   "outputs": [
    {
     "name": "stdout",
     "output_type": "stream",
     "text": [
      "<class 'pandas.core.frame.DataFrame'>\n",
      "RangeIndex: 21613 entries, 0 to 21612\n",
      "Data columns (total 18 columns):\n",
      "price            21613 non-null float64\n",
      "bedrooms         21613 non-null int64\n",
      "bathrooms        21613 non-null float64\n",
      "sqft_living      21613 non-null int64\n",
      "sqft_lot         21613 non-null int64\n",
      "floors           21613 non-null float64\n",
      "waterfront       21613 non-null int64\n",
      "view             21613 non-null int64\n",
      "condition        21613 non-null int64\n",
      "grade            21613 non-null int64\n",
      "sqft_above       21613 non-null int64\n",
      "sqft_basement    21613 non-null int64\n",
      "yr_built         21613 non-null int64\n",
      "yr_renovated     21613 non-null int64\n",
      "lat              21613 non-null float64\n",
      "long             21613 non-null float64\n",
      "sqft_living15    21613 non-null int64\n",
      "sqft_lot15       21613 non-null int64\n",
      "dtypes: float64(5), int64(13)\n",
      "memory usage: 3.0 MB\n"
     ]
    }
   ],
   "source": [
    "df.info()"
   ]
  },
  {
   "cell_type": "code",
   "execution_count": 33,
   "metadata": {},
   "outputs": [
    {
     "data": {
      "text/html": [
       "<div>\n",
       "<style>\n",
       "    .dataframe thead tr:only-child th {\n",
       "        text-align: right;\n",
       "    }\n",
       "\n",
       "    .dataframe thead th {\n",
       "        text-align: left;\n",
       "    }\n",
       "\n",
       "    .dataframe tbody tr th {\n",
       "        vertical-align: top;\n",
       "    }\n",
       "</style>\n",
       "<table border=\"1\" class=\"dataframe\">\n",
       "  <thead>\n",
       "    <tr style=\"text-align: right;\">\n",
       "      <th></th>\n",
       "      <th>price</th>\n",
       "      <th>bedrooms</th>\n",
       "      <th>bathrooms</th>\n",
       "      <th>sqft_living</th>\n",
       "      <th>sqft_lot</th>\n",
       "      <th>floors</th>\n",
       "      <th>waterfront</th>\n",
       "      <th>view</th>\n",
       "      <th>condition</th>\n",
       "      <th>grade</th>\n",
       "      <th>sqft_above</th>\n",
       "      <th>sqft_basement</th>\n",
       "      <th>yr_built</th>\n",
       "      <th>yr_renovated</th>\n",
       "      <th>lat</th>\n",
       "      <th>long</th>\n",
       "      <th>sqft_living15</th>\n",
       "      <th>sqft_lot15</th>\n",
       "    </tr>\n",
       "  </thead>\n",
       "  <tbody>\n",
       "    <tr>\n",
       "      <th>count</th>\n",
       "      <td>2.161300e+04</td>\n",
       "      <td>21613.000000</td>\n",
       "      <td>21613.000000</td>\n",
       "      <td>21613.000000</td>\n",
       "      <td>2.161300e+04</td>\n",
       "      <td>21613.000000</td>\n",
       "      <td>21613.000000</td>\n",
       "      <td>21613.000000</td>\n",
       "      <td>21613.000000</td>\n",
       "      <td>21613.000000</td>\n",
       "      <td>21613.000000</td>\n",
       "      <td>21613.000000</td>\n",
       "      <td>21613.000000</td>\n",
       "      <td>21613.000000</td>\n",
       "      <td>21613.000000</td>\n",
       "      <td>21613.000000</td>\n",
       "      <td>21613.000000</td>\n",
       "      <td>21613.000000</td>\n",
       "    </tr>\n",
       "    <tr>\n",
       "      <th>mean</th>\n",
       "      <td>5.400881e+05</td>\n",
       "      <td>3.370842</td>\n",
       "      <td>2.114757</td>\n",
       "      <td>2079.899736</td>\n",
       "      <td>1.510697e+04</td>\n",
       "      <td>1.494309</td>\n",
       "      <td>0.007542</td>\n",
       "      <td>0.234303</td>\n",
       "      <td>3.409430</td>\n",
       "      <td>7.656873</td>\n",
       "      <td>1788.390691</td>\n",
       "      <td>291.509045</td>\n",
       "      <td>1971.005136</td>\n",
       "      <td>84.402258</td>\n",
       "      <td>47.560053</td>\n",
       "      <td>-122.213896</td>\n",
       "      <td>1986.552492</td>\n",
       "      <td>12768.455652</td>\n",
       "    </tr>\n",
       "    <tr>\n",
       "      <th>std</th>\n",
       "      <td>3.671272e+05</td>\n",
       "      <td>0.930062</td>\n",
       "      <td>0.770163</td>\n",
       "      <td>918.440897</td>\n",
       "      <td>4.142051e+04</td>\n",
       "      <td>0.539989</td>\n",
       "      <td>0.086517</td>\n",
       "      <td>0.766318</td>\n",
       "      <td>0.650743</td>\n",
       "      <td>1.175459</td>\n",
       "      <td>828.090978</td>\n",
       "      <td>442.575043</td>\n",
       "      <td>29.373411</td>\n",
       "      <td>401.679240</td>\n",
       "      <td>0.138564</td>\n",
       "      <td>0.140828</td>\n",
       "      <td>685.391304</td>\n",
       "      <td>27304.179631</td>\n",
       "    </tr>\n",
       "    <tr>\n",
       "      <th>min</th>\n",
       "      <td>7.500000e+04</td>\n",
       "      <td>0.000000</td>\n",
       "      <td>0.000000</td>\n",
       "      <td>290.000000</td>\n",
       "      <td>5.200000e+02</td>\n",
       "      <td>1.000000</td>\n",
       "      <td>0.000000</td>\n",
       "      <td>0.000000</td>\n",
       "      <td>1.000000</td>\n",
       "      <td>1.000000</td>\n",
       "      <td>290.000000</td>\n",
       "      <td>0.000000</td>\n",
       "      <td>1900.000000</td>\n",
       "      <td>0.000000</td>\n",
       "      <td>47.155900</td>\n",
       "      <td>-122.519000</td>\n",
       "      <td>399.000000</td>\n",
       "      <td>651.000000</td>\n",
       "    </tr>\n",
       "    <tr>\n",
       "      <th>25%</th>\n",
       "      <td>3.219500e+05</td>\n",
       "      <td>3.000000</td>\n",
       "      <td>1.750000</td>\n",
       "      <td>1427.000000</td>\n",
       "      <td>5.040000e+03</td>\n",
       "      <td>1.000000</td>\n",
       "      <td>0.000000</td>\n",
       "      <td>0.000000</td>\n",
       "      <td>3.000000</td>\n",
       "      <td>7.000000</td>\n",
       "      <td>1190.000000</td>\n",
       "      <td>0.000000</td>\n",
       "      <td>1951.000000</td>\n",
       "      <td>0.000000</td>\n",
       "      <td>47.471000</td>\n",
       "      <td>-122.328000</td>\n",
       "      <td>1490.000000</td>\n",
       "      <td>5100.000000</td>\n",
       "    </tr>\n",
       "    <tr>\n",
       "      <th>50%</th>\n",
       "      <td>4.500000e+05</td>\n",
       "      <td>3.000000</td>\n",
       "      <td>2.250000</td>\n",
       "      <td>1910.000000</td>\n",
       "      <td>7.618000e+03</td>\n",
       "      <td>1.500000</td>\n",
       "      <td>0.000000</td>\n",
       "      <td>0.000000</td>\n",
       "      <td>3.000000</td>\n",
       "      <td>7.000000</td>\n",
       "      <td>1560.000000</td>\n",
       "      <td>0.000000</td>\n",
       "      <td>1975.000000</td>\n",
       "      <td>0.000000</td>\n",
       "      <td>47.571800</td>\n",
       "      <td>-122.230000</td>\n",
       "      <td>1840.000000</td>\n",
       "      <td>7620.000000</td>\n",
       "    </tr>\n",
       "    <tr>\n",
       "      <th>75%</th>\n",
       "      <td>6.450000e+05</td>\n",
       "      <td>4.000000</td>\n",
       "      <td>2.500000</td>\n",
       "      <td>2550.000000</td>\n",
       "      <td>1.068800e+04</td>\n",
       "      <td>2.000000</td>\n",
       "      <td>0.000000</td>\n",
       "      <td>0.000000</td>\n",
       "      <td>4.000000</td>\n",
       "      <td>8.000000</td>\n",
       "      <td>2210.000000</td>\n",
       "      <td>560.000000</td>\n",
       "      <td>1997.000000</td>\n",
       "      <td>0.000000</td>\n",
       "      <td>47.678000</td>\n",
       "      <td>-122.125000</td>\n",
       "      <td>2360.000000</td>\n",
       "      <td>10083.000000</td>\n",
       "    </tr>\n",
       "    <tr>\n",
       "      <th>max</th>\n",
       "      <td>7.700000e+06</td>\n",
       "      <td>33.000000</td>\n",
       "      <td>8.000000</td>\n",
       "      <td>13540.000000</td>\n",
       "      <td>1.651359e+06</td>\n",
       "      <td>3.500000</td>\n",
       "      <td>1.000000</td>\n",
       "      <td>4.000000</td>\n",
       "      <td>5.000000</td>\n",
       "      <td>13.000000</td>\n",
       "      <td>9410.000000</td>\n",
       "      <td>4820.000000</td>\n",
       "      <td>2015.000000</td>\n",
       "      <td>2015.000000</td>\n",
       "      <td>47.777600</td>\n",
       "      <td>-121.315000</td>\n",
       "      <td>6210.000000</td>\n",
       "      <td>871200.000000</td>\n",
       "    </tr>\n",
       "  </tbody>\n",
       "</table>\n",
       "</div>"
      ],
      "text/plain": [
       "              price      bedrooms     bathrooms   sqft_living      sqft_lot  \\\n",
       "count  2.161300e+04  21613.000000  21613.000000  21613.000000  2.161300e+04   \n",
       "mean   5.400881e+05      3.370842      2.114757   2079.899736  1.510697e+04   \n",
       "std    3.671272e+05      0.930062      0.770163    918.440897  4.142051e+04   \n",
       "min    7.500000e+04      0.000000      0.000000    290.000000  5.200000e+02   \n",
       "25%    3.219500e+05      3.000000      1.750000   1427.000000  5.040000e+03   \n",
       "50%    4.500000e+05      3.000000      2.250000   1910.000000  7.618000e+03   \n",
       "75%    6.450000e+05      4.000000      2.500000   2550.000000  1.068800e+04   \n",
       "max    7.700000e+06     33.000000      8.000000  13540.000000  1.651359e+06   \n",
       "\n",
       "             floors    waterfront          view     condition         grade  \\\n",
       "count  21613.000000  21613.000000  21613.000000  21613.000000  21613.000000   \n",
       "mean       1.494309      0.007542      0.234303      3.409430      7.656873   \n",
       "std        0.539989      0.086517      0.766318      0.650743      1.175459   \n",
       "min        1.000000      0.000000      0.000000      1.000000      1.000000   \n",
       "25%        1.000000      0.000000      0.000000      3.000000      7.000000   \n",
       "50%        1.500000      0.000000      0.000000      3.000000      7.000000   \n",
       "75%        2.000000      0.000000      0.000000      4.000000      8.000000   \n",
       "max        3.500000      1.000000      4.000000      5.000000     13.000000   \n",
       "\n",
       "         sqft_above  sqft_basement      yr_built  yr_renovated           lat  \\\n",
       "count  21613.000000   21613.000000  21613.000000  21613.000000  21613.000000   \n",
       "mean    1788.390691     291.509045   1971.005136     84.402258     47.560053   \n",
       "std      828.090978     442.575043     29.373411    401.679240      0.138564   \n",
       "min      290.000000       0.000000   1900.000000      0.000000     47.155900   \n",
       "25%     1190.000000       0.000000   1951.000000      0.000000     47.471000   \n",
       "50%     1560.000000       0.000000   1975.000000      0.000000     47.571800   \n",
       "75%     2210.000000     560.000000   1997.000000      0.000000     47.678000   \n",
       "max     9410.000000    4820.000000   2015.000000   2015.000000     47.777600   \n",
       "\n",
       "               long  sqft_living15     sqft_lot15  \n",
       "count  21613.000000   21613.000000   21613.000000  \n",
       "mean    -122.213896    1986.552492   12768.455652  \n",
       "std        0.140828     685.391304   27304.179631  \n",
       "min     -122.519000     399.000000     651.000000  \n",
       "25%     -122.328000    1490.000000    5100.000000  \n",
       "50%     -122.230000    1840.000000    7620.000000  \n",
       "75%     -122.125000    2360.000000   10083.000000  \n",
       "max     -121.315000    6210.000000  871200.000000  "
      ]
     },
     "execution_count": 33,
     "metadata": {},
     "output_type": "execute_result"
    }
   ],
   "source": [
    "df.describe()"
   ]
  },
  {
   "cell_type": "markdown",
   "metadata": {},
   "source": [
    "## (c) Normalice los datos antes de trabajar. Explique la importancia/conveniencia de realizar esta operacion."
   ]
  },
  {
   "cell_type": "code",
   "execution_count": 34,
   "metadata": {
    "collapsed": true
   },
   "outputs": [],
   "source": [
    "X = df\n",
    "y = np.log(df['price'])\n",
    "mask = np.zeros(len(X))\n",
    "limit = int(len(X)*0.7)\n",
    "mask[:limit] = 1\n",
    "istrain = (mask== 1)\n",
    "Xtrain = X[istrain]\n",
    "ytrain = y[istrain]\n",
    "Xtest = X[np.logical_not(istrain)]\n",
    "ytest = y[np.logical_not(istrain)]\n",
    "Xtrain = Xtrain.drop(['price'], axis=1)\n",
    "Xtest = Xtest.drop(['price'], axis=1)"
   ]
  },
  {
   "cell_type": "code",
   "execution_count": 35,
   "metadata": {
    "collapsed": true
   },
   "outputs": [],
   "source": [
    "from sklearn.preprocessing import StandardScaler\n",
    "scaler = StandardScaler().fit(Xtrain)\n",
    "df_scaled_train = pd.DataFrame(scaler.transform(Xtrain), columns=Xtrain.columns)\n",
    "df_scaled_train.insert(df_scaled_train.shape[1], 'intercept', np.ones(df_scaled_train.shape[0]))"
   ]
  },
  {
   "cell_type": "markdown",
   "metadata": {},
   "source": [
    "## (d) Realice una regresion lineal de mınimos cuadrados basica. Explique los argumentos que se deben entregar a la funcion que implementa la regresion lineal."
   ]
  },
  {
   "cell_type": "code",
   "execution_count": 82,
   "metadata": {},
   "outputs": [
    {
     "data": {
      "text/plain": [
       "LinearRegression(copy_X=True, fit_intercept=False, n_jobs=1, normalize=False)"
      ]
     },
     "execution_count": 82,
     "metadata": {},
     "output_type": "execute_result"
    }
   ],
   "source": [
    "import sklearn.linear_model as lm\n",
    "linreg = lm.LinearRegression(fit_intercept = False)\n",
    "linreg.fit(df_scaled_train, ytrain)"
   ]
  },
  {
   "cell_type": "markdown",
   "metadata": {},
   "source": [
    "## (e) Construya una tabla con los pesos y Z-score correspondientes a cada predictor (variable). ¿Observa algun problema? Si es ası, comente y proponga un metodo para eliminar dicho problema."
   ]
  },
  {
   "cell_type": "code",
   "execution_count": 133,
   "metadata": {
    "collapsed": true
   },
   "outputs": [],
   "source": [
    "def calculate_z(lm,X,y):\n",
    "    coefs =linreg.coef_[:-1]\n",
    "    var = np.sum((lm.predict(X)-y)**2)/(len(X) - len(coefs) - 1)\n",
    "    X = X.drop([\"intercept\"], axis=1)\n",
    "    xtx = np.dot(X.T,X)\n",
    "    diag = np.diag(np.linalg.inv(xtx))\n",
    "    z = coefs/(np.sqrt(var)*np.sqrt(diag))\n",
    "    df = pd.DataFrame({\"names\":X.columns,\"coefs\":coefs,\"z-score\":z})\n",
    "    return df"
   ]
  },
  {
   "cell_type": "code",
   "execution_count": 135,
   "metadata": {},
   "outputs": [
    {
     "data": {
      "text/plain": [
       "<matplotlib.legend.Legend at 0x7f139671ea90>"
      ]
     },
     "execution_count": 135,
     "metadata": {},
     "output_type": "execute_result"
    },
    {
     "data": {
      "image/png": "[encoded data removed]",
      "text/plain": [
       "<matplotlib.figure.Figure at 0x7f1396d257b8>"
      ]
     },
     "metadata": {},
     "output_type": "display_data"
    }
   ],
   "source": [
    "from scipy.stats import t\n",
    "fig, ax = plt.subplots(1, 1)\n",
    "df = len(df_scaled_train) - len(linreg.coef_[::-1] -1)\n",
    "x = np.linspace(t.ppf(0.01, df), t.ppf(0.99, df), 100)\n",
    "ax.set_xlim((t.ppf(0.01, df), t.ppf(0.99, df)))\n",
    "ax.axvline(t.ppf(0.05, df))\n",
    "ax.axvline(t.ppf(0.95, df))\n",
    "ax.plot(x, t.pdf(x, df),'r-', lw=5, alpha=0.6)\n",
    "for i,point in enumerate(z_scores[\"z-score\"]):\n",
    "    if point < 2 and point > -2:\n",
    "        ax.plot([point], [0], marker='o', markersize=3, label=df_scaled_train.columns[i])\n",
    "ax.legend()"
   ]
  },
  {
   "cell_type": "code",
   "execution_count": 136,
   "metadata": {
    "scrolled": false
   },
   "outputs": [],
   "source": [
    "z_scores = calculate_z(linreg,df_scaled_train,ytrain)"
   ]
  },
  {
   "cell_type": "code",
   "execution_count": 137,
   "metadata": {},
   "outputs": [
    {
     "data": {
      "text/html": [
       "<div>\n",
       "<style>\n",
       "    .dataframe thead tr:only-child th {\n",
       "        text-align: right;\n",
       "    }\n",
       "\n",
       "    .dataframe thead th {\n",
       "        text-align: left;\n",
       "    }\n",
       "\n",
       "    .dataframe tbody tr th {\n",
       "        vertical-align: top;\n",
       "    }\n",
       "</style>\n",
       "<table border=\"1\" class=\"dataframe\">\n",
       "  <thead>\n",
       "    <tr style=\"text-align: right;\">\n",
       "      <th></th>\n",
       "      <th>coefs</th>\n",
       "      <th>names</th>\n",
       "      <th>z-score</th>\n",
       "    </tr>\n",
       "  </thead>\n",
       "  <tbody>\n",
       "    <tr>\n",
       "      <th>0</th>\n",
       "      <td>-0.008086</td>\n",
       "      <td>bedrooms</td>\n",
       "      <td>-3.034180e+00</td>\n",
       "    </tr>\n",
       "    <tr>\n",
       "      <th>1</th>\n",
       "      <td>0.055111</td>\n",
       "      <td>bathrooms</td>\n",
       "      <td>1.465651e+01</td>\n",
       "    </tr>\n",
       "    <tr>\n",
       "      <th>2</th>\n",
       "      <td>0.056935</td>\n",
       "      <td>sqft_living</td>\n",
       "      <td>7.530827e-07</td>\n",
       "    </tr>\n",
       "    <tr>\n",
       "      <th>3</th>\n",
       "      <td>0.022873</td>\n",
       "      <td>sqft_lot</td>\n",
       "      <td>7.597741e+00</td>\n",
       "    </tr>\n",
       "    <tr>\n",
       "      <th>4</th>\n",
       "      <td>0.035505</td>\n",
       "      <td>floors</td>\n",
       "      <td>1.227029e+01</td>\n",
       "    </tr>\n",
       "    <tr>\n",
       "      <th>5</th>\n",
       "      <td>0.033366</td>\n",
       "      <td>waterfront</td>\n",
       "      <td>1.478618e+01</td>\n",
       "    </tr>\n",
       "    <tr>\n",
       "      <th>6</th>\n",
       "      <td>0.042595</td>\n",
       "      <td>view</td>\n",
       "      <td>1.739128e+01</td>\n",
       "    </tr>\n",
       "    <tr>\n",
       "      <th>7</th>\n",
       "      <td>0.046360</td>\n",
       "      <td>condition</td>\n",
       "      <td>2.053749e+01</td>\n",
       "    </tr>\n",
       "    <tr>\n",
       "      <th>8</th>\n",
       "      <td>0.184577</td>\n",
       "      <td>grade</td>\n",
       "      <td>4.806978e+01</td>\n",
       "    </tr>\n",
       "    <tr>\n",
       "      <th>9</th>\n",
       "      <td>0.045937</td>\n",
       "      <td>sqft_above</td>\n",
       "      <td>6.824477e-07</td>\n",
       "    </tr>\n",
       "    <tr>\n",
       "      <th>10</th>\n",
       "      <td>0.032265</td>\n",
       "      <td>sqft_basement</td>\n",
       "      <td>8.586933e-07</td>\n",
       "    </tr>\n",
       "    <tr>\n",
       "      <th>11</th>\n",
       "      <td>-0.104759</td>\n",
       "      <td>yr_built</td>\n",
       "      <td>-3.379167e+01</td>\n",
       "    </tr>\n",
       "    <tr>\n",
       "      <th>12</th>\n",
       "      <td>0.015266</td>\n",
       "      <td>yr_renovated</td>\n",
       "      <td>6.890014e+00</td>\n",
       "    </tr>\n",
       "    <tr>\n",
       "      <th>13</th>\n",
       "      <td>0.187880</td>\n",
       "      <td>lat</td>\n",
       "      <td>8.579793e+01</td>\n",
       "    </tr>\n",
       "    <tr>\n",
       "      <th>14</th>\n",
       "      <td>-0.004031</td>\n",
       "      <td>long</td>\n",
       "      <td>-1.589935e+00</td>\n",
       "    </tr>\n",
       "    <tr>\n",
       "      <th>15</th>\n",
       "      <td>0.084412</td>\n",
       "      <td>sqft_living15</td>\n",
       "      <td>2.356943e+01</td>\n",
       "    </tr>\n",
       "    <tr>\n",
       "      <th>16</th>\n",
       "      <td>-0.007149</td>\n",
       "      <td>sqft_lot15</td>\n",
       "      <td>-2.346857e+00</td>\n",
       "    </tr>\n",
       "  </tbody>\n",
       "</table>\n",
       "</div>"
      ],
      "text/plain": [
       "       coefs          names       z-score\n",
       "0  -0.008086       bedrooms -3.034180e+00\n",
       "1   0.055111      bathrooms  1.465651e+01\n",
       "2   0.056935    sqft_living  7.530827e-07\n",
       "3   0.022873       sqft_lot  7.597741e+00\n",
       "4   0.035505         floors  1.227029e+01\n",
       "5   0.033366     waterfront  1.478618e+01\n",
       "6   0.042595           view  1.739128e+01\n",
       "7   0.046360      condition  2.053749e+01\n",
       "8   0.184577          grade  4.806978e+01\n",
       "9   0.045937     sqft_above  6.824477e-07\n",
       "10  0.032265  sqft_basement  8.586933e-07\n",
       "11 -0.104759       yr_built -3.379167e+01\n",
       "12  0.015266   yr_renovated  6.890014e+00\n",
       "13  0.187880            lat  8.579793e+01\n",
       "14 -0.004031           long -1.589935e+00\n",
       "15  0.084412  sqft_living15  2.356943e+01\n",
       "16 -0.007149     sqft_lot15 -2.346857e+00"
      ]
     },
     "execution_count": 137,
     "metadata": {},
     "output_type": "execute_result"
    }
   ],
   "source": [
    "z_scores"
   ]
  },
  {
   "cell_type": "markdown",
   "metadata": {},
   "source": [
    "$sqft\\_above, sqft\\_basement, sqft\\_living \\approx 0$"
   ]
  },
  {
   "cell_type": "markdown",
   "metadata": {},
   "source": [
    "## (f) Estime el error de prediccion del modelo usando validacion cruzada con un numero de “folds” igual a K = 5 y K = 10. Recuerde que para que la estimacion sea razonable debe ajustar los pesos del modelo de nuevo, cada vez que trabaja sobre un determinado “fold”. Mida el error real del modelo sobre el conjunto de pruebas, compare y concluya."
   ]
  },
  {
   "cell_type": "code",
   "execution_count": 39,
   "metadata": {},
   "outputs": [
    {
     "data": {
      "text/plain": [
       "0.06525925123726196"
      ]
     },
     "execution_count": 39,
     "metadata": {},
     "output_type": "execute_result"
    }
   ],
   "source": [
    "x_test = pd.DataFrame(scaler.transform(Xtest),columns=Xtest.columns)\n",
    "x_test.insert(x_test.shape[1], 'intercept', np.ones(x_test.shape[0]))\n",
    "yhat_test = linreg.predict(x_test)\n",
    "mse_test = np.mean(np.power(yhat_test - ytest, 2))\n",
    "mse_test"
   ]
  },
  {
   "cell_type": "code",
   "execution_count": 40,
   "metadata": {
    "collapsed": true
   },
   "outputs": [],
   "source": [
    "from sklearn.model_selection import KFold\n",
    "def k_fold_cv(X,y,n_fold=5):\n",
    "    X = X.as_matrix()\n",
    "    y = y.as_matrix()\n",
    "    kf = KFold(n_splits=n_fold)\n",
    "    mse_cv = 0\n",
    "    for train,val in kf.split(X):\n",
    "        cross_scaler = StandardScaler().fit(X[train])\n",
    "        df_cross_train = pd.DataFrame(cross_scaler.transform(X[train]))\n",
    "        df_cross_train.insert(df_cross_train.shape[1],'intercept', np.ones(df_cross_train.shape[0]))\n",
    "        linreg = lm.LinearRegression(fit_intercept= False )\n",
    "        linreg.fit(df_cross_train,y[train])\n",
    "        df_cross_test = pd.DataFrame(cross_scaler.transform(X[val]))\n",
    "        df_cross_test.insert(df_cross_test.shape[1], 'intercept', np.ones(df_cross_test.shape[0]))\n",
    "        yhat_val = linreg.predict(df_cross_test)\n",
    "        mse_fold = np.mean(np.power(yhat_val - y[val], 2))\n",
    "        mse_cv += mse_fold\n",
    "    return mse_cv /n_fold "
   ]
  },
  {
   "cell_type": "code",
   "execution_count": 41,
   "metadata": {},
   "outputs": [
    {
     "name": "stdout",
     "output_type": "stream",
     "text": [
      "0.064701633522\n",
      "0.0646829054256\n"
     ]
    }
   ],
   "source": [
    "print(k_fold_cv(Xtrain,ytrain,n_fold=5))\n",
    "print(k_fold_cv(Xtrain,ytrain,n_fold=10))"
   ]
  },
  {
   "cell_type": "markdown",
   "metadata": {},
   "source": [
    "## (j) Mida los errores de prediccion para cada dato de entrenamiento. Utilizando un “quantile-quantile plot” determine si es razonable la hipotesis de normalidad sobre los residuos del modelo"
   ]
  },
  {
   "cell_type": "markdown",
   "metadata": {},
   "source": [
    " $y = X^T \\beta + \\epsilon$, $\\epsilon \\sim N(0, \\sigma^2)$"
   ]
  },
  {
   "cell_type": "code",
   "execution_count": 42,
   "metadata": {},
   "outputs": [
    {
     "data": {
      "image/png": "[encoded data removed]",
      "text/plain": [
       "<matplotlib.figure.Figure at 0x7f13951baef0>"
      ]
     },
     "metadata": {},
     "output_type": "display_data"
    }
   ],
   "source": [
    "import scipy.stats as stats\n",
    "\n",
    "y_hat_train = linreg.predict(df_scaled_train)\n",
    "error = y_hat_train-ytrain\n",
    "_ = stats.probplot(error, dist=\"norm\", plot=plt)"
   ]
  },
  {
   "cell_type": "markdown",
   "metadata": {},
   "source": [
    "## (h) Se generan dos muestreos de datos donde el valor de sus etiqueta siguen distribuciones distintas: Genere dos modelos, evalue y compare sus comportamientos"
   ]
  },
  {
   "cell_type": "code",
   "execution_count": 43,
   "metadata": {
    "collapsed": true
   },
   "outputs": [],
   "source": [
    "df_A = df.sample(3000)\n",
    "frames = []\n",
    "valor = np.log(df.price)\n",
    "for z in np.arange(int(np.min(valor)),int(np.max(valor))+1,0.5):\n",
    "    frames.append(df[(np.log(df.price) >= z) & (np.log(df.price) < z+0.5)].head(500))\n",
    "df_B = pd.concat(frames).sample(3000)\n",
    "X_A = df_A.iloc[:,1:].values\n",
    "y_A = df_A.price\n",
    "X_B = df_B.iloc[:,1:].values\n",
    "y_B = df_B.price\n",
    "from sklearn.model_selection import train_test_split\n",
    "Xtrain_A, Xval_A, ytrain_A, yval_A = train_test_split(X_A, y_A, test_size=0.3, random_state=42)\n",
    "Xtrain_B, Xval_B, ytrain_B, yval_B = train_test_split(X_B, y_B, test_size=0.3, random_state=42)"
   ]
  },
  {
   "cell_type": "code",
   "execution_count": 44,
   "metadata": {},
   "outputs": [
    {
     "data": {
      "text/plain": [
       "LinearRegression(copy_X=True, fit_intercept=False, n_jobs=1, normalize=False)"
      ]
     },
     "execution_count": 44,
     "metadata": {},
     "output_type": "execute_result"
    }
   ],
   "source": [
    "linreg_A = lm.LinearRegression(fit_intercept=False)\n",
    "linreg_B = lm.LinearRegression(fit_intercept=False)\n",
    "linreg_A.fit(Xtrain_A,ytrain_A)\n",
    "linreg_B.fit(Xtrain_B,ytrain_B)"
   ]
  },
  {
   "cell_type": "code",
   "execution_count": 45,
   "metadata": {
    "collapsed": true
   },
   "outputs": [],
   "source": [
    "yhat_A = linreg_A.predict(Xval_A)\n",
    "yhat_B = linreg_B.predict(Xval_B)\n",
    "\n",
    "resid_A = yval_A - yhat_A\n",
    "resid_B = yval_B - yhat_B"
   ]
  },
  {
   "cell_type": "code",
   "execution_count": 46,
   "metadata": {},
   "outputs": [
    {
     "data": {
      "image/png": "[encoded data removed]",
      "text/plain": [
       "<matplotlib.figure.Figure at 0x7f1395105fd0>"
      ]
     },
     "metadata": {},
     "output_type": "display_data"
    }
   ],
   "source": [
    "_ = stats.probplot(resid_A, dist=\"norm\", plot=plt)"
   ]
  },
  {
   "cell_type": "code",
   "execution_count": 47,
   "metadata": {},
   "outputs": [
    {
     "data": {
      "image/png": "[encoded data removed]",
      "text/plain": [
       "<matplotlib.figure.Figure at 0x7f13a1629cc0>"
      ]
     },
     "metadata": {},
     "output_type": "display_data"
    }
   ],
   "source": [
    "_ = stats.probplot(resid_B, dist=\"norm\", plot=plt)"
   ]
  },
  {
   "cell_type": "code",
   "execution_count": 48,
   "metadata": {},
   "outputs": [
    {
     "name": "stdout",
     "output_type": "stream",
     "text": [
      "A:\n",
      "Train:\n",
      "43220092999.0\n",
      "Test:\n",
      "32804462447.5\n",
      "B:\n",
      "Train:\n",
      "109802846733.0\n",
      "Test:\n",
      "121667564689.0\n"
     ]
    }
   ],
   "source": [
    "print(\"A:\")\n",
    "print(\"Train:\")\n",
    "print(metrics.mean_squared_error(linreg_A.predict(Xtrain_A),ytrain_A))\n",
    "print(\"Test:\")\n",
    "print(metrics.mean_squared_error(yval_A,yhat_A))\n",
    "print(\"B:\")\n",
    "print(\"Train:\")\n",
    "print(metrics.mean_squared_error(linreg_B.predict(Xtrain_B),ytrain_B))\n",
    "print(\"Test:\")\n",
    "print(metrics.mean_squared_error(yval_B,yhat_B))"
   ]
  },
  {
   "cell_type": "markdown",
   "metadata": {},
   "source": [
    "# Seleccion de Atributos\n",
    "## (a) Construya una funcion que implemente Forward Step-wise Selection (FSS). Es decir, partiendo con un modelo sin predictores (variables), agregue un predictor a la vez, re-ajustando el modelo de regresion en cada paso. Para seleccionar localmente una variable, proponga/implemente un criterio distinto al utilizado en el codigo de ejemplo. Construya un grafico que muestre el error de entrenamiento y el error de pruebas como funci´on del n´umero de variables en el modelo. Ordene el eje x de menor a mayor. \n",
    "(Ver que otro criterio usar)"
   ]
  },
  {
   "cell_type": "code",
   "execution_count": 72,
   "metadata": {},
   "outputs": [
    {
     "name": "stdout",
     "output_type": "stream",
     "text": [
      "selected = bedrooms ...\n",
      "totalvars=2, mse = 0.244675\n",
      "selected = sqft_living ...\n",
      "totalvars=3, mse = 0.144658\n",
      "selected = floors ...\n",
      "totalvars=4, mse = 0.143699\n",
      "selected = view ...\n",
      "totalvars=5, mse = 0.137470\n",
      "selected = grade ...\n",
      "totalvars=6, mse = 0.121706\n",
      "selected = sqft_basement ...\n",
      "totalvars=7, mse = 0.120197\n",
      "selected = yr_renovated ...\n",
      "totalvars=8, mse = 0.118646\n",
      "selected = sqft_living15 ...\n",
      "totalvars=9, mse = 0.116378\n",
      "selected = intercept ...\n",
      "totalvars=10, mse = 0.116372\n",
      "selected = bathrooms ...\n",
      "totalvars=11, mse = 0.116332\n",
      "selected = waterfront ...\n",
      "totalvars=12, mse = 0.115665\n",
      "selected = sqft_above ...\n",
      "totalvars=13, mse = 0.115665\n",
      "selected = lat-long ...\n",
      "totalvars=14, mse = 0.076263\n",
      "selected = sqft_lot ...\n",
      "totalvars=15, mse = 0.076021\n",
      "selected = yr_built ...\n",
      "totalvars=16, mse = 0.068604\n",
      "selected = condition ...\n",
      "totalvars=17, mse = 0.066888\n",
      "selected = sqft_lot15 ...\n",
      "totalvars=18, mse = 0.064516\n"
     ]
    },
    {
     "data": {
      "text/plain": [
       "[17, 0, 2, 4, 6, 8, 10, 12, 14, 16, 1, 5, 9, 13, 3, 11, 7, 15]"
      ]
     },
     "execution_count": 72,
     "metadata": {},
     "output_type": "execute_result"
    }
   ],
   "source": [
    "def fss(x, y, names_x, k = 10000, if use_cor= False):\n",
    "    p = x.shape[1]-1\n",
    "\n",
    "    k = min(p, k)\n",
    "    names_x = np.array(names_x)\n",
    "    remaining = list(range(0, p))\n",
    "\n",
    "    #Cómo seleccionar el primero\n",
    "    selected = [p]\n",
    "    \n",
    "    if use_cor:\n",
    "        best_cor = 0\n",
    "        for i in range(p):\n",
    "            x[:,i] = np.corrcoef()\n",
    "    \n",
    "    current_score = 0.0\n",
    "    best_new_score = 0.0\n",
    "    \n",
    "    mses = []\n",
    "    while remaining and len(selected)<=k :\n",
    "        score_candidates = []\n",
    "        for candidate in remaining:\n",
    "            model = lm.LinearRegression(fit_intercept=False)\n",
    "            indexes = selected + [candidate]\n",
    "            x_train = x[:,indexes]\n",
    "            predictions_train = model.fit(x_train, y).predict(x_train)\n",
    "            residuals_train = predictions_train - y\n",
    "            mse_candidate = np.mean(np.power(residuals_train, 2))\n",
    "            score_candidates.append((mse_candidate, candidate))\n",
    "            score_candidates.sort()\n",
    "            score_candidates[:] = score_candidates[::-1]\n",
    "            best_new_score, best_candidate = score_candidates.pop()\n",
    "            remaining.remove(best_candidate)\n",
    "            selected.append(best_candidate)\n",
    "            print(\"selected = %s ...\"%names_x[best_candidate])\n",
    "            print(\"totalvars=%d, mse = %f\"%(len(indexes),best_new_score))\n",
    "    \n",
    "    return selected\n",
    "'''Revise si la cantidad de etiquetas concuerda con la cantidad de variables que esta utilizando,\n",
    " puede que tenga que eliminar un elemento de la lista name_regressors'''\n",
    "\n",
    "names_regressors = [\"bedrooms\",\"bathrooms\",\"sqft_living\",\"sqft_lot\",\"floors\",\"waterfront\",\"view\",\n",
    "\"condition\",\"grade\",\"sqft_above\",\"sqft_basement\",\"yr_built\",\"yr_renovated\",\"lat-long\",\n",
    " \"sqft_living15\",\"sqft_lot15\",\"intercept\"]\n",
    "\n",
    "Xm = df_scaled_train.as_matrix()\n",
    "Ym = ytrain.as_matrix()\n",
    "\n",
    "regressors = fss(Xm,Ym,names_regressors)\n",
    "regressors"
   ]
  },
  {
   "cell_type": "code",
   "execution_count": 70,
   "metadata": {
    "collapsed": true
   },
   "outputs": [],
   "source": [
    "X = df_scaled_train.as_matrix()\n",
    "y = ytrain.as_matrix()\n",
    "Xtest = x_test.as_matrix()\n",
    "indexes = []\n",
    "train_mses = []\n",
    "test_mses = []\n",
    "for reg in regressors:\n",
    "    indexes.append(reg)\n",
    "    Xtmp = X[:,indexes]\n",
    "    linreg = lm.LinearRegression(fit_intercept=False)\n",
    "    yhat = linreg.fit(Xtmp,ytrain).predict(Xtmp)\n",
    "    train_mse = metrics.mean_squared_error(y,yhat)\n",
    "    \n",
    "    XtestTmp = Xtest[:,indexes]\n",
    "    yhat_test = linreg.predict(Xtest[:,indexes])\n",
    "    test_mse = metrics.mean_squared_error(yhat_test,ytest)\n",
    "    train_mses.append(train_mse)\n",
    "    test_mses.append(test_mse)"
   ]
  },
  {
   "cell_type": "code",
   "execution_count": 71,
   "metadata": {},
   "outputs": [
    {
     "data": {
      "image/png": "[encoded data removed]",
      "text/plain": [
       "<matplotlib.figure.Figure at 0x7f1394cc3d68>"
      ]
     },
     "metadata": {},
     "output_type": "display_data"
    }
   ],
   "source": [
    "#plot de errores\n",
    "x_ax = list(range(1, len(regressors)+1))\n",
    "plt.semilogy(x_ax,train_mses,label=\"Train\")\n",
    "plt.semilogy(x_ax,test_mses, label=\"Test\")\n",
    "plt.xticks(x_ax)\n",
    "plt.legend()\n",
    "plt.show()"
   ]
  },
  {
   "cell_type": "markdown",
   "metadata": {},
   "source": [
    "#  Regularizacion\n",
    "## Ajuste un modelo lineal utilizando “Ridge Regression”, es decir, regularizando con la norma $l_2$. Utilice valores del parametro de regularizacion $\\lambda$ en el rango $[10^4, 10^{−1}]$. Construya un grafico que muestre los coeficientes obtenidos como funcion del parametro de regularizacion. Describa lo que observa. \n",
    "(Hint: Note que la lınea 4 y el primer argumento en la lınea 12 son crıticos)."
   ]
  },
  {
   "cell_type": "code",
   "execution_count": 52,
   "metadata": {},
   "outputs": [
    {
     "data": {
      "image/png": "[encoded data removed]",
      "text/plain": [
       "<matplotlib.figure.Figure at 0x7f13a1629978>"
      ]
     },
     "metadata": {},
     "output_type": "display_data"
    }
   ],
   "source": [
    "from sklearn.linear_model import Ridge\n",
    "import matplotlib.pylab as plt\n",
    "Dtrain = df_scaled_train.copy()\n",
    "Dtrain = Dtrain.drop('intercept', axis=1)\n",
    "names_regressors = [\"bedrooms\",\"bathrooms\",\"sqft_living\",\"sqft_lot\",\"floors\",\"waterfront\",\"view\",\n",
    "\"condition\",\"grade\",\"sqft_above\",\"sqft_basement\",\"yr_built\",\"yr_renovated\",\"lat-long\",\n",
    "\"sqft_living15\",\"sqft_lot15\"]\n",
    "alphas_ = np.logspace(4,-1,base=10)\n",
    "coefs = []\n",
    "model = Ridge(fit_intercept=True,solver='svd')\n",
    "for a in alphas_:\n",
    "    model.set_params(alpha=a)\n",
    "    model.fit(Dtrain, ytrain)\n",
    "    coefs.append(model.coef_)\n",
    "\n",
    "fig = plt.figure(figsize=(20,10))\n",
    "ax = plt.gca()\n",
    "for y_arr, label in zip(np.squeeze(coefs).T, names_regressors):\n",
    "#     print(alphas_.shape)\n",
    "#     print(y_arr.shape)\n",
    "    plt.plot(alphas_, y_arr, label=label)\n",
    "plt.legend()\n",
    "ax.set_xscale('log')\n",
    "ax.set_xlim(ax.get_xlim()[::-1]) # reverse axis\n",
    "plt.xlabel('alpha')\n",
    "plt.ylabel('weights')\n",
    "plt.title('Regularization Path RIDGE')\n",
    "plt.axis('tight')\n",
    "plt.legend(loc=2)\n",
    "plt.show()"
   ]
  },
  {
   "cell_type": "markdown",
   "metadata": {},
   "source": [
    "##  Ajuste un modelo lineal utilizando el metodo “Lasso”, es decir, regularizando con la norma $l_1$. Utilice valores del parametro de regularizacion $\\lambda$ en el rango $[10^1, 10^{−2}]$.  Para obtener el codigo, modifique las lineas 7 y 9 del ejemplo anterior. Construya un grafico que muestre los coeficientes obtenidos como funcion del parametro de regularizacion. Describa lo que observa. ¿Es mas efectivo Lasso para seleccionar atributos?"
   ]
  },
  {
   "cell_type": "code",
   "execution_count": 53,
   "metadata": {},
   "outputs": [
    {
     "data": {
      "image/png": "[encoded data removed]",
      "text/plain": [
       "<matplotlib.figure.Figure at 0x7f1394ec1a20>"
      ]
     },
     "metadata": {},
     "output_type": "display_data"
    }
   ],
   "source": [
    "from sklearn.linear_model import Lasso\n",
    "import matplotlib.pylab as plt\n",
    "Dtrain = df_scaled_train.copy()\n",
    "Dtrain = Dtrain.drop('intercept', axis=1)\n",
    "names_regressors = [\"bedrooms\",\"bathrooms\",\"sqft_living\",\"sqft_lot\",\"floors\",\"waterfront\",\"view\",\n",
    "\"condition\",\"grade\",\"sqft_above\",\"sqft_basement\",\"yr_built\",\"yr_renovated\",\"lat-long\",\n",
    "\"sqft_living15\",\"sqft_lot15\"]\n",
    "alphas_ = np.logspace(0,-3,base=10)\n",
    "coefs = []\n",
    "model = Lasso(fit_intercept=True)\n",
    "for a in alphas_:\n",
    "    model.set_params(alpha=a)\n",
    "    model.fit(Dtrain, ytrain)\n",
    "    coefs.append(model.coef_)\n",
    "\n",
    "fig = plt.figure(figsize=(20,10))\n",
    "ax = plt.gca()\n",
    "for y_arr, label in zip(np.squeeze(coefs).T, names_regressors):\n",
    "#     print(alphas_.shape)\n",
    "#     print(y_arr.shape)\n",
    "    plt.plot(alphas_, y_arr, label=label)\n",
    "plt.legend()\n",
    "ax.set_xscale('log')\n",
    "ax.set_xlim(ax.get_xlim()[::-1]) # reverse axis\n",
    "plt.xlabel('alpha')\n",
    "plt.ylabel('weights')\n",
    "plt.title('Regularization Path Lasso')\n",
    "plt.axis('tight')\n",
    "plt.legend(loc=2)\n",
    "plt.show()\n"
   ]
  },
  {
   "cell_type": "markdown",
   "metadata": {},
   "source": [
    "## (c) Utilizando “Ridge Regression”, construya un grafico que muestre el error de entrenamiento y el error de pruebas como funcion del parametro de regularizacion. Discuta lo que observa"
   ]
  },
  {
   "cell_type": "code",
   "execution_count": 54,
   "metadata": {},
   "outputs": [
    {
     "data": {
      "image/png": "[encoded data removed]",
      "text/plain": [
       "<matplotlib.figure.Figure at 0x7f1394ec1e48>"
      ]
     },
     "metadata": {},
     "output_type": "display_data"
    }
   ],
   "source": [
    "Xtest = x_test.copy()\n",
    "ytest = ytest.copy()\n",
    "Xtest = Xtest.drop('intercept', axis=1)\n",
    "alphas_ = np.logspace(4,-2,base=10)\n",
    "coefs = []\n",
    "model = Ridge(fit_intercept=True)\n",
    "mse_test = []\n",
    "mse_train = []\n",
    "for a in alphas_:\n",
    "    model.set_params(alpha=a)\n",
    "    model.fit(Dtrain, ytrain)\n",
    "    yhat_train = model.predict(Dtrain)\n",
    "    yhat_test = model.predict(Xtest)\n",
    "    mse_train.append(np.mean(np.power(yhat_train - ytrain, 2)))\n",
    "    mse_test.append(np.mean(np.power(yhat_test - ytest, 2)))\n",
    "ax = plt.gca()\n",
    "ax.plot(alphas_,mse_train,label='train error ridge')\n",
    "ax.plot(alphas_,mse_test,label='test error ridge')\n",
    "plt.legend(loc=2)\n",
    "ax.set_xscale('log')\n",
    "ax.set_xlim(ax.get_xlim()[::-1])\n",
    "plt.show()"
   ]
  },
  {
   "cell_type": "markdown",
   "metadata": {},
   "source": [
    "## (d) Utilizando “Lasso”, construya un grafico que muestre el error de entrenamiento y el error de pruebas como funcion del parametro de regularizaci´on. Discuta lo que observa."
   ]
  },
  {
   "cell_type": "code",
   "execution_count": 55,
   "metadata": {},
   "outputs": [
    {
     "data": {
      "image/png": "[encoded data removed]",
      "text/plain": [
       "<matplotlib.figure.Figure at 0x7f13951aac50>"
      ]
     },
     "metadata": {},
     "output_type": "display_data"
    }
   ],
   "source": [
    "Xtest = x_test.copy()\n",
    "ytest = ytest.copy()\n",
    "Xtest = Xtest.drop('intercept', axis=1)\n",
    "alphas_ = np.logspace(0.5,-2,base=10)\n",
    "coefs = []\n",
    "model = Lasso(fit_intercept=True)\n",
    "mse_test = []\n",
    "mse_train = []\n",
    "for a in alphas_:\n",
    "    model.set_params(alpha=a)\n",
    "    model.fit(Dtrain, ytrain)\n",
    "    yhat_train = model.predict(Dtrain)\n",
    "    yhat_test = model.predict(Xtest)\n",
    "    mse_train.append(np.mean(np.power(yhat_train - ytrain, 2)))\n",
    "    mse_test.append(np.mean(np.power(yhat_test - ytest, 2)))\n",
    "ax = plt.gca()\n",
    "ax.plot(alphas_,mse_train,label='train error ridge')\n",
    "ax.plot(alphas_,mse_test,label='test error ridge')\n",
    "plt.legend(loc=2)\n",
    "ax.set_xscale('log')\n",
    "ax.set_xlim(ax.get_xlim()[::-1])\n",
    "plt.show()"
   ]
  },
  {
   "cell_type": "markdown",
   "metadata": {},
   "source": [
    "## (e) Estime el valor del parametro de regularizacion en los metodos anteriores usando validacion cruzada."
   ]
  },
  {
   "cell_type": "code",
   "execution_count": 56,
   "metadata": {},
   "outputs": [
    {
     "name": "stderr",
     "output_type": "stream",
     "text": [
      "/home/tronco/anaconda3/lib/python3.6/site-packages/sklearn/cross_validation.py:41: DeprecationWarning: This module was deprecated in version 0.18 in favor of the model_selection module into which all the refactored classes and functions are moved. Also note that the interface of the new CV iterators are different from that of this module. This module will be removed in 0.20.\n",
      "  \"This module will be removed in 0.20.\", DeprecationWarning)\n"
     ]
    },
    {
     "name": "stdout",
     "output_type": "stream",
     "text": [
      "BEST PARAMETER=10000.000000, MSE(CV)=0.079556\n",
      "BEST PARAMETER=7543.120063, MSE(CV)=0.077331\n",
      "BEST PARAMETER=5689.866029, MSE(CV)=0.075493\n",
      "BEST PARAMETER=4291.934260, MSE(CV)=0.073986\n",
      "BEST PARAMETER=3237.457543, MSE(CV)=0.072754\n",
      "BEST PARAMETER=2442.053095, MSE(CV)=0.071746\n",
      "BEST PARAMETER=1842.069969, MSE(CV)=0.070920\n",
      "BEST PARAMETER=1389.495494, MSE(CV)=0.070240\n",
      "BEST PARAMETER=1048.113134, MSE(CV)=0.069677\n",
      "BEST PARAMETER=790.604321, MSE(CV)=0.069207\n",
      "BEST PARAMETER=596.362332, MSE(CV)=0.068811\n",
      "BEST PARAMETER=449.843267, MSE(CV)=0.068475\n",
      "BEST PARAMETER=339.322177, MSE(CV)=0.068188\n",
      "BEST PARAMETER=255.954792, MSE(CV)=0.067940\n",
      "BEST PARAMETER=193.069773, MSE(CV)=0.067724\n",
      "BEST PARAMETER=145.634848, MSE(CV)=0.067534\n",
      "BEST PARAMETER=109.854114, MSE(CV)=0.067366\n",
      "BEST PARAMETER=82.864277, MSE(CV)=0.067217\n",
      "BEST PARAMETER=62.505519, MSE(CV)=0.067084\n",
      "BEST PARAMETER=47.148664, MSE(CV)=0.066964\n",
      "BEST PARAMETER=35.564803, MSE(CV)=0.066855\n",
      "BEST PARAMETER=26.826958, MSE(CV)=0.066757\n",
      "BEST PARAMETER=20.235896, MSE(CV)=0.066666\n",
      "BEST PARAMETER=15.264180, MSE(CV)=0.066584\n",
      "BEST PARAMETER=11.513954, MSE(CV)=0.066508\n",
      "BEST PARAMETER=8.685114, MSE(CV)=0.066437\n",
      "BEST PARAMETER=6.551286, MSE(CV)=0.066373\n",
      "BEST PARAMETER=4.941713, MSE(CV)=0.066312\n",
      "BEST PARAMETER=3.727594, MSE(CV)=0.066256\n",
      "BEST PARAMETER=2.811769, MSE(CV)=0.066204\n",
      "BEST PARAMETER=2.120951, MSE(CV)=0.066154\n",
      "BEST PARAMETER=1.599859, MSE(CV)=0.066108\n",
      "BEST PARAMETER=1.206793, MSE(CV)=0.066065\n",
      "BEST PARAMETER=0.910298, MSE(CV)=0.066025\n",
      "BEST PARAMETER=0.686649, MSE(CV)=0.065986\n",
      "BEST PARAMETER=0.517947, MSE(CV)=0.065950\n",
      "BEST PARAMETER=0.390694, MSE(CV)=0.065916\n",
      "BEST PARAMETER=0.294705, MSE(CV)=0.065883\n",
      "BEST PARAMETER=0.222300, MSE(CV)=0.065853\n",
      "BEST PARAMETER=0.167683, MSE(CV)=0.065823\n",
      "BEST PARAMETER=0.126486, MSE(CV)=0.065796\n",
      "BEST PARAMETER=0.095410, MSE(CV)=0.065769\n",
      "BEST PARAMETER=0.071969, MSE(CV)=0.065744\n",
      "BEST PARAMETER=0.054287, MSE(CV)=0.065720\n",
      "BEST PARAMETER=0.040949, MSE(CV)=0.065697\n",
      "BEST PARAMETER=0.030888, MSE(CV)=0.065675\n",
      "BEST PARAMETER=0.023300, MSE(CV)=0.065654\n",
      "BEST PARAMETER=0.017575, MSE(CV)=0.065633\n",
      "BEST PARAMETER=0.013257, MSE(CV)=0.065614\n",
      "BEST PARAMETER=0.010000, MSE(CV)=0.065595\n"
     ]
    }
   ],
   "source": [
    "from sklearn.linear_model import Ridge\n",
    "MSE = lambda y,yhat: np.mean(np.power(y-yhat,2))\n",
    "Xm = Xtrain.as_matrix()\n",
    "ym = ytrain.as_matrix()\n",
    "from sklearn import cross_validation\n",
    "k_fold = cross_validation.KFold(len(Xm),10)\n",
    "best_cv_mse = float(\"inf\")\n",
    "alphas_ = np.logspace(4,-2,base=10)\n",
    "model = Ridge(fit_intercept=True)\n",
    "mse_list_k10 = []\n",
    "for a in alphas_:\n",
    "    model.set_params(alpha=a)\n",
    "    for train,vald in k_fold:\n",
    "        cross_scaler = StandardScaler().fit(Xm[train])\n",
    "        df_cross_train = pd.DataFrame(cross_scaler.transform(Xm[train]),\n",
    "        columns=Xtrain.columns)\n",
    "        df_cross_train.insert(df_cross_train.shape[1], 'intercept',\n",
    "        np.ones(df_cross_train.shape[0]))\n",
    "        df_cross_test = pd.DataFrame(cross_scaler.transform(Xm[vald]),\n",
    "        columns=Xtrain.columns)\n",
    "        df_cross_test.insert(df_cross_test.shape[1], 'intercept',\n",
    "        np.ones(df_cross_test.shape[0]))\n",
    "        mse_list_k10.append(MSE(model.fit(df_cross_train,\n",
    "        ym[train]).predict(df_cross_test),ym[vald]))\n",
    "    if np.mean(mse_list_k10) < best_cv_mse:\n",
    "        best_cv_mse = np.mean(mse_list_k10)\n",
    "        best_alpha = a\n",
    "        print(\"BEST PARAMETER=%f, MSE(CV)=%f\"%(best_alpha,best_cv_mse))"
   ]
  },
  {
   "cell_type": "code",
   "execution_count": 293,
   "metadata": {},
   "outputs": [
    {
     "name": "stdout",
     "output_type": "stream",
     "text": [
      "BEST PARAMETER=3.162278, MSE(CV)=0.277498\n",
      "BEST PARAMETER=1.976598, MSE(CV)=0.277498\n",
      "BEST PARAMETER=0.339322, MSE(CV)=0.276496\n",
      "BEST PARAMETER=0.301711, MSE(CV)=0.274288\n",
      "BEST PARAMETER=0.268270, MSE(CV)=0.271299\n",
      "BEST PARAMETER=0.238534, MSE(CV)=0.267827\n",
      "BEST PARAMETER=0.212095, MSE(CV)=0.263880\n",
      "BEST PARAMETER=0.188586, MSE(CV)=0.259511\n",
      "BEST PARAMETER=0.167683, MSE(CV)=0.254916\n",
      "BEST PARAMETER=0.149097, MSE(CV)=0.250227\n",
      "BEST PARAMETER=0.132571, MSE(CV)=0.245535\n",
      "BEST PARAMETER=0.117877, MSE(CV)=0.240909\n",
      "BEST PARAMETER=0.104811, MSE(CV)=0.236395\n",
      "BEST PARAMETER=0.093194, MSE(CV)=0.231992\n",
      "BEST PARAMETER=0.082864, MSE(CV)=0.227719\n",
      "BEST PARAMETER=0.073680, MSE(CV)=0.223595\n",
      "BEST PARAMETER=0.065513, MSE(CV)=0.219619\n",
      "BEST PARAMETER=0.058251, MSE(CV)=0.215761\n",
      "BEST PARAMETER=0.051795, MSE(CV)=0.212029\n",
      "BEST PARAMETER=0.046054, MSE(CV)=0.208425\n",
      "BEST PARAMETER=0.040949, MSE(CV)=0.204945\n",
      "BEST PARAMETER=0.036410, MSE(CV)=0.201587\n",
      "BEST PARAMETER=0.032375, MSE(CV)=0.198355\n",
      "BEST PARAMETER=0.028786, MSE(CV)=0.195249\n",
      "BEST PARAMETER=0.025595, MSE(CV)=0.192261\n",
      "BEST PARAMETER=0.022758, MSE(CV)=0.189390\n",
      "BEST PARAMETER=0.020236, MSE(CV)=0.186631\n",
      "BEST PARAMETER=0.017993, MSE(CV)=0.183980\n",
      "BEST PARAMETER=0.015999, MSE(CV)=0.181434\n",
      "BEST PARAMETER=0.014225, MSE(CV)=0.178988\n",
      "BEST PARAMETER=0.012649, MSE(CV)=0.176635\n",
      "BEST PARAMETER=0.011247, MSE(CV)=0.174373\n",
      "BEST PARAMETER=0.010000, MSE(CV)=0.172197\n"
     ]
    }
   ],
   "source": [
    "from sklearn.linear_model import Lasso\n",
    "MSE = lambda y,yhat: np.mean(np.power(y-yhat,2))\n",
    "Xm = Xtrain.as_matrix()\n",
    "ym = ytrain.as_matrix()\n",
    "from sklearn import cross_validation\n",
    "k_fold = cross_validation.KFold(len(Xm),10)\n",
    "best_cv_mse = float(\"inf\")\n",
    "alphas_ = np.logspace(0.5,-2,base=10)\n",
    "model = Lasso(fit_intercept=True)\n",
    "mse_list_k10 = []\n",
    "for a in alphas_:\n",
    "    model.set_params(alpha=a)\n",
    "    for train,vald in k_fold:\n",
    "        cross_scaler = StandardScaler().fit(Xm[train])\n",
    "        df_cross_train = pd.DataFrame(cross_scaler.transform(Xm[train]),\n",
    "        columns=Xtrain.columns)\n",
    "        df_cross_train.insert(df_cross_train.shape[1], 'intercept',\n",
    "        np.ones(df_cross_train.shape[0]))\n",
    "        df_cross_test = pd.DataFrame(cross_scaler.transform(Xm[vald]),\n",
    "        columns=Xtrain.columns)\n",
    "        df_cross_test.insert(df_cross_test.shape[1], 'intercept',\n",
    "        np.ones(df_cross_test.shape[0]))\n",
    "        mse_list_k10.append(MSE(model.fit(df_cross_train,\n",
    "        ym[train]).predict(df_cross_test),ym[vald]))\n",
    "    if np.mean(mse_list_k10) < best_cv_mse:\n",
    "        best_cv_mse = np.mean(mse_list_k10)\n",
    "        best_alpha = a\n",
    "        print(\"BEST PARAMETER=%f, MSE(CV)=%f\"%(best_alpha,best_cv_mse))"
   ]
  },
  {
   "cell_type": "markdown",
   "metadata": {
    "collapsed": true
   },
   "source": [
    "# Predicción de Utilidades de Pelı́culas"
   ]
  },
  {
   "cell_type": "code",
   "execution_count": 58,
   "metadata": {
    "collapsed": true
   },
   "outputs": [],
   "source": [
    "# !wget http://www.inf.utfsm.cl/~cvalle/movies.tar.gz;tar -xzvf movies.tar.gz;rm movies.tar.gz"
   ]
  },
  {
   "cell_type": "code",
   "execution_count": 247,
   "metadata": {
    "collapsed": true
   },
   "outputs": [],
   "source": [
    "import pandas as pd\n",
    "import numpy as np\n",
    "from scipy.sparse import csr_matrix,vstack\n",
    "from scipy.io import mmread\n",
    "set_path = \"movies-preproc/ngrams-deprels-fp1-origin.runtime.budget.numscreen.ratings.seasons.stars/\"\n",
    "X_test = csr_matrix(mmread(set_path+'test.x.mm'))\n",
    "y_test = np.loadtxt(set_path+'test.y.dat')\n",
    "\n",
    "X_train = csr_matrix(mmread(set_path+'train.x.mm'))\n",
    "y_train = np.loadtxt(set_path+'train.y.dat')\n",
    "\n",
    "X_val = csr_matrix(mmread(set_path+'dev.x.mm'))\n",
    "y_val = np.loadtxt(set_path+'dev.y.dat')"
   ]
  },
  {
   "cell_type": "code",
   "execution_count": 248,
   "metadata": {
    "scrolled": true
   },
   "outputs": [
    {
     "name": "stdout",
     "output_type": "stream",
     "text": [
      "train: R^2=0.594850\n"
     ]
    }
   ],
   "source": [
    "import sklearn.linear_model as lm\n",
    "model = lm.LinearRegression(fit_intercept = False)\n",
    "model.fit(vstack((X_train,X_val)),np.hstack((y_train,y_val)))\n",
    "print(\"train: R^2=%f\"%model.score(X_test, y_test))"
   ]
  },
  {
   "cell_type": "code",
   "execution_count": 288,
   "metadata": {},
   "outputs": [
    {
     "data": {
      "text/html": [
       "<div>\n",
       "<style>\n",
       "    .dataframe thead tr:only-child th {\n",
       "        text-align: right;\n",
       "    }\n",
       "\n",
       "    .dataframe thead th {\n",
       "        text-align: left;\n",
       "    }\n",
       "\n",
       "    .dataframe tbody tr th {\n",
       "        vertical-align: top;\n",
       "    }\n",
       "</style>\n",
       "<table border=\"1\" class=\"dataframe\">\n",
       "  <thead>\n",
       "    <tr style=\"text-align: right;\">\n",
       "      <th></th>\n",
       "      <th>alpha</th>\n",
       "      <th>scores</th>\n",
       "      <th>test_score</th>\n",
       "    </tr>\n",
       "  </thead>\n",
       "  <tbody>\n",
       "    <tr>\n",
       "      <th>0</th>\n",
       "      <td>10000.000000</td>\n",
       "      <td>0.555559</td>\n",
       "      <td>0.508592</td>\n",
       "    </tr>\n",
       "    <tr>\n",
       "      <th>1</th>\n",
       "      <td>2782.559402</td>\n",
       "      <td>0.560386</td>\n",
       "      <td>0.513206</td>\n",
       "    </tr>\n",
       "    <tr>\n",
       "      <th>2</th>\n",
       "      <td>774.263683</td>\n",
       "      <td>0.561800</td>\n",
       "      <td>0.514668</td>\n",
       "    </tr>\n",
       "    <tr>\n",
       "      <th>3</th>\n",
       "      <td>215.443469</td>\n",
       "      <td>0.562269</td>\n",
       "      <td>0.515028</td>\n",
       "    </tr>\n",
       "    <tr>\n",
       "      <th>4</th>\n",
       "      <td>59.948425</td>\n",
       "      <td>0.562364</td>\n",
       "      <td>0.515184</td>\n",
       "    </tr>\n",
       "    <tr>\n",
       "      <th>5</th>\n",
       "      <td>16.681005</td>\n",
       "      <td>0.562482</td>\n",
       "      <td>0.515272</td>\n",
       "    </tr>\n",
       "    <tr>\n",
       "      <th>6</th>\n",
       "      <td>4.641589</td>\n",
       "      <td>0.562456</td>\n",
       "      <td>0.515290</td>\n",
       "    </tr>\n",
       "    <tr>\n",
       "      <th>7</th>\n",
       "      <td>1.291550</td>\n",
       "      <td>0.562518</td>\n",
       "      <td>0.515287</td>\n",
       "    </tr>\n",
       "    <tr>\n",
       "      <th>8</th>\n",
       "      <td>0.359381</td>\n",
       "      <td>0.562600</td>\n",
       "      <td>0.515308</td>\n",
       "    </tr>\n",
       "    <tr>\n",
       "      <th>9</th>\n",
       "      <td>0.100000</td>\n",
       "      <td>0.562346</td>\n",
       "      <td>0.515170</td>\n",
       "    </tr>\n",
       "  </tbody>\n",
       "</table>\n",
       "</div>"
      ],
      "text/plain": [
       "          alpha    scores  test_score\n",
       "0  10000.000000  0.555559    0.508592\n",
       "1   2782.559402  0.560386    0.513206\n",
       "2    774.263683  0.561800    0.514668\n",
       "3    215.443469  0.562269    0.515028\n",
       "4     59.948425  0.562364    0.515184\n",
       "5     16.681005  0.562482    0.515272\n",
       "6      4.641589  0.562456    0.515290\n",
       "7      1.291550  0.562518    0.515287\n",
       "8      0.359381  0.562600    0.515308\n",
       "9      0.100000  0.562346    0.515170"
      ]
     },
     "execution_count": 288,
     "metadata": {},
     "output_type": "execute_result"
    }
   ],
   "source": [
    "alphas_ = np.logspace(4,-1,base=10, num=10)\n",
    "model = lm.Ridge()\n",
    "scores = np.empty_like(alphas_)\n",
    "test_scores =  np.empty_like(alphas_)\n",
    "for i,alpha in enumerate(alphas_):\n",
    "    model.set_params(alpha=alpha)\n",
    "    model.fit(X_train,y_train)\n",
    "    scores[i] = model.score(X_val,y_val)\n",
    "    test_scores[i] = model.score(X_test,y_test)\n",
    "pd.DataFrame({\"alpha\":alphas_,\"scores\":scores, \"test_score\": test_scores})"
   ]
  },
  {
   "cell_type": "code",
   "execution_count": 251,
   "metadata": {
    "collapsed": true
   },
   "outputs": [],
   "source": [
    "import sklearn.decomposition as decomp\n",
    "import sklearn.preprocessing as preproc"
   ]
  },
  {
   "cell_type": "code",
   "execution_count": 252,
   "metadata": {},
   "outputs": [],
   "source": [
    "svd = decomp.TruncatedSVD(n_components=200)"
   ]
  },
  {
   "cell_type": "code",
   "execution_count": 253,
   "metadata": {},
   "outputs": [],
   "source": [
    "stder = preproc.StandardScaler()"
   ]
  },
  {
   "cell_type": "code",
   "execution_count": 254,
   "metadata": {},
   "outputs": [],
   "source": [
    "X_train_svd = svd.fit_transform(X_train)\n",
    "X_test_svd = svd.transform(X_test)\n",
    "X_val_svd = svd.transform(X_val)"
   ]
  },
  {
   "cell_type": "code",
   "execution_count": 255,
   "metadata": {
    "collapsed": true
   },
   "outputs": [],
   "source": [
    "X_train_preproc = stder.fit_transform(X_train_svd)\n",
    "X_test_preproc = stder.transform(X_test_svd)\n",
    "X_val_preproc = stder.transform(X_val_svd)"
   ]
  },
  {
   "cell_type": "code",
   "execution_count": 264,
   "metadata": {
    "collapsed": true
   },
   "outputs": [],
   "source": [
    "y_train_log = np.log(y_train)\n",
    "y_test_log = np.log(y_test)\n",
    "y_val_log = np.log(y_val)"
   ]
  },
  {
   "cell_type": "code",
   "execution_count": 265,
   "metadata": {},
   "outputs": [
    {
     "data": {
      "text/plain": [
       "LinearRegression(copy_X=True, fit_intercept=True, n_jobs=1, normalize=False)"
      ]
     },
     "execution_count": 265,
     "metadata": {},
     "output_type": "execute_result"
    }
   ],
   "source": [
    "linreg = lm.LinearRegression()\n",
    "linreg.fit(X_train_preproc, y_train)"
   ]
  },
  {
   "cell_type": "code",
   "execution_count": 266,
   "metadata": {},
   "outputs": [],
   "source": [
    "y_approx = linreg.predict(X_test_preproc)"
   ]
  },
  {
   "cell_type": "code",
   "execution_count": 267,
   "metadata": {},
   "outputs": [
    {
     "data": {
      "text/plain": [
       "0.59628290779346826"
      ]
     },
     "execution_count": 267,
     "metadata": {},
     "output_type": "execute_result"
    }
   ],
   "source": [
    "metrics.r2_score(y_test,y_approx)"
   ]
  },
  {
   "cell_type": "code",
   "execution_count": 287,
   "metadata": {
    "scrolled": false
   },
   "outputs": [
    {
     "data": {
      "text/html": [
       "<div>\n",
       "<style>\n",
       "    .dataframe thead tr:only-child th {\n",
       "        text-align: right;\n",
       "    }\n",
       "\n",
       "    .dataframe thead th {\n",
       "        text-align: left;\n",
       "    }\n",
       "\n",
       "    .dataframe tbody tr th {\n",
       "        vertical-align: top;\n",
       "    }\n",
       "</style>\n",
       "<table border=\"1\" class=\"dataframe\">\n",
       "  <thead>\n",
       "    <tr style=\"text-align: right;\">\n",
       "      <th></th>\n",
       "      <th>alpha</th>\n",
       "      <th>scores</th>\n",
       "      <th>test_scores</th>\n",
       "    </tr>\n",
       "  </thead>\n",
       "  <tbody>\n",
       "    <tr>\n",
       "      <th>0</th>\n",
       "      <td>1.000000e+04</td>\n",
       "      <td>0.203513</td>\n",
       "      <td>0.207287</td>\n",
       "    </tr>\n",
       "    <tr>\n",
       "      <th>1</th>\n",
       "      <td>5.179475e+03</td>\n",
       "      <td>0.345391</td>\n",
       "      <td>0.358564</td>\n",
       "    </tr>\n",
       "    <tr>\n",
       "      <th>2</th>\n",
       "      <td>2.682696e+03</td>\n",
       "      <td>0.507716</td>\n",
       "      <td>0.529981</td>\n",
       "    </tr>\n",
       "    <tr>\n",
       "      <th>3</th>\n",
       "      <td>1.389495e+03</td>\n",
       "      <td>0.648539</td>\n",
       "      <td>0.675555</td>\n",
       "    </tr>\n",
       "    <tr>\n",
       "      <th>4</th>\n",
       "      <td>7.196857e+02</td>\n",
       "      <td>0.737947</td>\n",
       "      <td>0.763662</td>\n",
       "    </tr>\n",
       "    <tr>\n",
       "      <th>5</th>\n",
       "      <td>3.727594e+02</td>\n",
       "      <td>0.781677</td>\n",
       "      <td>0.802343</td>\n",
       "    </tr>\n",
       "    <tr>\n",
       "      <th>6</th>\n",
       "      <td>1.930698e+02</td>\n",
       "      <td>0.803044</td>\n",
       "      <td>0.818042</td>\n",
       "    </tr>\n",
       "    <tr>\n",
       "      <th>7</th>\n",
       "      <td>1.000000e+02</td>\n",
       "      <td>0.818029</td>\n",
       "      <td>0.828010</td>\n",
       "    </tr>\n",
       "    <tr>\n",
       "      <th>8</th>\n",
       "      <td>5.179475e+01</td>\n",
       "      <td>0.830345</td>\n",
       "      <td>0.835848</td>\n",
       "    </tr>\n",
       "    <tr>\n",
       "      <th>9</th>\n",
       "      <td>2.682696e+01</td>\n",
       "      <td>0.838612</td>\n",
       "      <td>0.840068</td>\n",
       "    </tr>\n",
       "    <tr>\n",
       "      <th>10</th>\n",
       "      <td>1.389495e+01</td>\n",
       "      <td>0.842734</td>\n",
       "      <td>0.840878</td>\n",
       "    </tr>\n",
       "    <tr>\n",
       "      <th>11</th>\n",
       "      <td>7.196857e+00</td>\n",
       "      <td>0.844305</td>\n",
       "      <td>0.840107</td>\n",
       "    </tr>\n",
       "    <tr>\n",
       "      <th>12</th>\n",
       "      <td>3.727594e+00</td>\n",
       "      <td>0.844784</td>\n",
       "      <td>0.839120</td>\n",
       "    </tr>\n",
       "    <tr>\n",
       "      <th>13</th>\n",
       "      <td>1.930698e+00</td>\n",
       "      <td>0.844898</td>\n",
       "      <td>0.838390</td>\n",
       "    </tr>\n",
       "    <tr>\n",
       "      <th>14</th>\n",
       "      <td>1.000000e+00</td>\n",
       "      <td>0.844913</td>\n",
       "      <td>0.837942</td>\n",
       "    </tr>\n",
       "    <tr>\n",
       "      <th>15</th>\n",
       "      <td>5.179475e-01</td>\n",
       "      <td>0.844907</td>\n",
       "      <td>0.837689</td>\n",
       "    </tr>\n",
       "    <tr>\n",
       "      <th>16</th>\n",
       "      <td>2.682696e-01</td>\n",
       "      <td>0.844901</td>\n",
       "      <td>0.837553</td>\n",
       "    </tr>\n",
       "    <tr>\n",
       "      <th>17</th>\n",
       "      <td>1.389495e-01</td>\n",
       "      <td>0.844897</td>\n",
       "      <td>0.837480</td>\n",
       "    </tr>\n",
       "    <tr>\n",
       "      <th>18</th>\n",
       "      <td>7.196857e-02</td>\n",
       "      <td>0.844894</td>\n",
       "      <td>0.837442</td>\n",
       "    </tr>\n",
       "    <tr>\n",
       "      <th>19</th>\n",
       "      <td>3.727594e-02</td>\n",
       "      <td>0.844893</td>\n",
       "      <td>0.837422</td>\n",
       "    </tr>\n",
       "    <tr>\n",
       "      <th>20</th>\n",
       "      <td>1.930698e-02</td>\n",
       "      <td>0.844892</td>\n",
       "      <td>0.837412</td>\n",
       "    </tr>\n",
       "    <tr>\n",
       "      <th>21</th>\n",
       "      <td>1.000000e-02</td>\n",
       "      <td>0.844892</td>\n",
       "      <td>0.837407</td>\n",
       "    </tr>\n",
       "    <tr>\n",
       "      <th>22</th>\n",
       "      <td>5.179475e-03</td>\n",
       "      <td>0.844891</td>\n",
       "      <td>0.837404</td>\n",
       "    </tr>\n",
       "    <tr>\n",
       "      <th>23</th>\n",
       "      <td>2.682696e-03</td>\n",
       "      <td>0.844891</td>\n",
       "      <td>0.837403</td>\n",
       "    </tr>\n",
       "    <tr>\n",
       "      <th>24</th>\n",
       "      <td>1.389495e-03</td>\n",
       "      <td>0.844891</td>\n",
       "      <td>0.837402</td>\n",
       "    </tr>\n",
       "    <tr>\n",
       "      <th>25</th>\n",
       "      <td>7.196857e-04</td>\n",
       "      <td>0.844891</td>\n",
       "      <td>0.837402</td>\n",
       "    </tr>\n",
       "    <tr>\n",
       "      <th>26</th>\n",
       "      <td>3.727594e-04</td>\n",
       "      <td>0.844891</td>\n",
       "      <td>0.837401</td>\n",
       "    </tr>\n",
       "    <tr>\n",
       "      <th>27</th>\n",
       "      <td>1.930698e-04</td>\n",
       "      <td>0.844891</td>\n",
       "      <td>0.837401</td>\n",
       "    </tr>\n",
       "    <tr>\n",
       "      <th>28</th>\n",
       "      <td>1.000000e-04</td>\n",
       "      <td>0.844891</td>\n",
       "      <td>0.837401</td>\n",
       "    </tr>\n",
       "    <tr>\n",
       "      <th>29</th>\n",
       "      <td>5.179475e-05</td>\n",
       "      <td>0.844891</td>\n",
       "      <td>0.837401</td>\n",
       "    </tr>\n",
       "    <tr>\n",
       "      <th>30</th>\n",
       "      <td>2.682696e-05</td>\n",
       "      <td>0.844891</td>\n",
       "      <td>0.837401</td>\n",
       "    </tr>\n",
       "    <tr>\n",
       "      <th>31</th>\n",
       "      <td>1.389495e-05</td>\n",
       "      <td>0.844891</td>\n",
       "      <td>0.837401</td>\n",
       "    </tr>\n",
       "    <tr>\n",
       "      <th>32</th>\n",
       "      <td>7.196857e-06</td>\n",
       "      <td>0.844891</td>\n",
       "      <td>0.837401</td>\n",
       "    </tr>\n",
       "    <tr>\n",
       "      <th>33</th>\n",
       "      <td>3.727594e-06</td>\n",
       "      <td>0.844891</td>\n",
       "      <td>0.837401</td>\n",
       "    </tr>\n",
       "    <tr>\n",
       "      <th>34</th>\n",
       "      <td>1.930698e-06</td>\n",
       "      <td>0.844891</td>\n",
       "      <td>0.837401</td>\n",
       "    </tr>\n",
       "    <tr>\n",
       "      <th>35</th>\n",
       "      <td>1.000000e-06</td>\n",
       "      <td>0.844891</td>\n",
       "      <td>0.837401</td>\n",
       "    </tr>\n",
       "    <tr>\n",
       "      <th>36</th>\n",
       "      <td>5.179475e-07</td>\n",
       "      <td>0.844891</td>\n",
       "      <td>0.837401</td>\n",
       "    </tr>\n",
       "    <tr>\n",
       "      <th>37</th>\n",
       "      <td>2.682696e-07</td>\n",
       "      <td>0.844891</td>\n",
       "      <td>0.837401</td>\n",
       "    </tr>\n",
       "    <tr>\n",
       "      <th>38</th>\n",
       "      <td>1.389495e-07</td>\n",
       "      <td>0.844891</td>\n",
       "      <td>0.837401</td>\n",
       "    </tr>\n",
       "    <tr>\n",
       "      <th>39</th>\n",
       "      <td>7.196857e-08</td>\n",
       "      <td>0.844891</td>\n",
       "      <td>0.837401</td>\n",
       "    </tr>\n",
       "    <tr>\n",
       "      <th>40</th>\n",
       "      <td>3.727594e-08</td>\n",
       "      <td>0.844891</td>\n",
       "      <td>0.837401</td>\n",
       "    </tr>\n",
       "    <tr>\n",
       "      <th>41</th>\n",
       "      <td>1.930698e-08</td>\n",
       "      <td>0.844891</td>\n",
       "      <td>0.837401</td>\n",
       "    </tr>\n",
       "    <tr>\n",
       "      <th>42</th>\n",
       "      <td>1.000000e-08</td>\n",
       "      <td>0.844891</td>\n",
       "      <td>0.837401</td>\n",
       "    </tr>\n",
       "    <tr>\n",
       "      <th>43</th>\n",
       "      <td>5.179475e-09</td>\n",
       "      <td>0.844891</td>\n",
       "      <td>0.837401</td>\n",
       "    </tr>\n",
       "    <tr>\n",
       "      <th>44</th>\n",
       "      <td>2.682696e-09</td>\n",
       "      <td>0.844891</td>\n",
       "      <td>0.837401</td>\n",
       "    </tr>\n",
       "    <tr>\n",
       "      <th>45</th>\n",
       "      <td>1.389495e-09</td>\n",
       "      <td>0.844891</td>\n",
       "      <td>0.837401</td>\n",
       "    </tr>\n",
       "    <tr>\n",
       "      <th>46</th>\n",
       "      <td>7.196857e-10</td>\n",
       "      <td>0.844891</td>\n",
       "      <td>0.837401</td>\n",
       "    </tr>\n",
       "    <tr>\n",
       "      <th>47</th>\n",
       "      <td>3.727594e-10</td>\n",
       "      <td>0.844891</td>\n",
       "      <td>0.837401</td>\n",
       "    </tr>\n",
       "    <tr>\n",
       "      <th>48</th>\n",
       "      <td>1.930698e-10</td>\n",
       "      <td>0.844891</td>\n",
       "      <td>0.837401</td>\n",
       "    </tr>\n",
       "    <tr>\n",
       "      <th>49</th>\n",
       "      <td>1.000000e-10</td>\n",
       "      <td>0.844891</td>\n",
       "      <td>0.837401</td>\n",
       "    </tr>\n",
       "  </tbody>\n",
       "</table>\n",
       "</div>"
      ],
      "text/plain": [
       "           alpha    scores  test_scores\n",
       "0   1.000000e+04  0.203513     0.207287\n",
       "1   5.179475e+03  0.345391     0.358564\n",
       "2   2.682696e+03  0.507716     0.529981\n",
       "3   1.389495e+03  0.648539     0.675555\n",
       "4   7.196857e+02  0.737947     0.763662\n",
       "5   3.727594e+02  0.781677     0.802343\n",
       "6   1.930698e+02  0.803044     0.818042\n",
       "7   1.000000e+02  0.818029     0.828010\n",
       "8   5.179475e+01  0.830345     0.835848\n",
       "9   2.682696e+01  0.838612     0.840068\n",
       "10  1.389495e+01  0.842734     0.840878\n",
       "11  7.196857e+00  0.844305     0.840107\n",
       "12  3.727594e+00  0.844784     0.839120\n",
       "13  1.930698e+00  0.844898     0.838390\n",
       "14  1.000000e+00  0.844913     0.837942\n",
       "15  5.179475e-01  0.844907     0.837689\n",
       "16  2.682696e-01  0.844901     0.837553\n",
       "17  1.389495e-01  0.844897     0.837480\n",
       "18  7.196857e-02  0.844894     0.837442\n",
       "19  3.727594e-02  0.844893     0.837422\n",
       "20  1.930698e-02  0.844892     0.837412\n",
       "21  1.000000e-02  0.844892     0.837407\n",
       "22  5.179475e-03  0.844891     0.837404\n",
       "23  2.682696e-03  0.844891     0.837403\n",
       "24  1.389495e-03  0.844891     0.837402\n",
       "25  7.196857e-04  0.844891     0.837402\n",
       "26  3.727594e-04  0.844891     0.837401\n",
       "27  1.930698e-04  0.844891     0.837401\n",
       "28  1.000000e-04  0.844891     0.837401\n",
       "29  5.179475e-05  0.844891     0.837401\n",
       "30  2.682696e-05  0.844891     0.837401\n",
       "31  1.389495e-05  0.844891     0.837401\n",
       "32  7.196857e-06  0.844891     0.837401\n",
       "33  3.727594e-06  0.844891     0.837401\n",
       "34  1.930698e-06  0.844891     0.837401\n",
       "35  1.000000e-06  0.844891     0.837401\n",
       "36  5.179475e-07  0.844891     0.837401\n",
       "37  2.682696e-07  0.844891     0.837401\n",
       "38  1.389495e-07  0.844891     0.837401\n",
       "39  7.196857e-08  0.844891     0.837401\n",
       "40  3.727594e-08  0.844891     0.837401\n",
       "41  1.930698e-08  0.844891     0.837401\n",
       "42  1.000000e-08  0.844891     0.837401\n",
       "43  5.179475e-09  0.844891     0.837401\n",
       "44  2.682696e-09  0.844891     0.837401\n",
       "45  1.389495e-09  0.844891     0.837401\n",
       "46  7.196857e-10  0.844891     0.837401\n",
       "47  3.727594e-10  0.844891     0.837401\n",
       "48  1.930698e-10  0.844891     0.837401\n",
       "49  1.000000e-10  0.844891     0.837401"
      ]
     },
     "execution_count": 287,
     "metadata": {},
     "output_type": "execute_result"
    }
   ],
   "source": [
    "alphas_ = np.logspace(4,-10,base=10, num=50)\n",
    "model = lm.Ridge()\n",
    "scores = np.empty_like(alphas_)\n",
    "test_scores =  np.empty_like(alphas_)\n",
    "for i,alpha in enumerate(alphas_):\n",
    "    model.set_params(alpha=alpha)\n",
    "    model.fit(X_train_preproc,y_train_log)\n",
    "    scores[i] = model.score(X_val_preproc,y_val_log)\n",
    "    test_scores[i] = model.score(X_test_preproc,y_test_log)\n",
    "results = pd.DataFrame({\"alpha\":alphas_,\"scores\":scores, \"test_scores\": test_scores})\n",
    "results"
   ]
  },
  {
   "cell_type": "code",
   "execution_count": null,
   "metadata": {
    "collapsed": true
   },
   "outputs": [],
   "source": []
  }
 ],
 "metadata": {
  "kernelspec": {
   "display_name": "Python 3",
   "language": "python",
   "name": "python3"
  },
  "language_info": {
   "codemirror_mode": {
    "name": "ipython",
    "version": 3
   },
   "file_extension": ".py",
   "mimetype": "text/x-python",
   "name": "python",
   "nbconvert_exporter": "python",
   "pygments_lexer": "ipython3",
   "version": "3.6.2"
  },
  "toc": {
   "colors": {
    "hover_highlight": "#DAA520",
    "navigate_num": "#000000",
    "navigate_text": "#333333",
    "running_highlight": "#FF0000",
    "selected_highlight": "#FFD700",
    "sidebar_border": "#EEEEEE",
    "wrapper_background": "#FFFFFF"
   },
   "moveMenuLeft": true,
   "nav_menu": {
    "height": "12px",
    "width": "252px"
   },
   "navigate_menu": true,
   "number_sections": true,
   "sideBar": true,
   "threshold": 4,
   "toc_cell": false,
   "toc_section_display": "block",
   "toc_window_display": false,
   "widenNotebook": false
  }
 },
 "nbformat": 4,
 "nbformat_minor": 2
}
